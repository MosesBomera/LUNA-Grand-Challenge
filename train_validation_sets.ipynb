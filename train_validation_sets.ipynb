{
 "metadata": {
  "language_info": {
   "codemirror_mode": {
    "name": "ipython",
    "version": 3
   },
   "file_extension": ".py",
   "mimetype": "text/x-python",
   "name": "python",
   "nbconvert_exporter": "python",
   "pygments_lexer": "ipython3",
   "version": "3.8.5"
  },
  "orig_nbformat": 2,
  "kernelspec": {
   "name": "python385jvsc74a57bd0fd3f5842a9b416e3333f1fcdcea001f5728f9ba02b7135db9e130f0cb9492b9d",
   "display_name": "Python 3.8.5 64-bit ('base': conda)"
  }
 },
 "nbformat": 4,
 "nbformat_minor": 2,
 "cells": [
  {
   "source": [
    "## Training and Validation Sets\n",
    "- The dataset is typical of a real world example, highly imbalanced as learned from the eda\n",
    "- The idea is get a representative distribution of the nodules in both the training and validation set."
   ],
   "cell_type": "markdown",
   "metadata": {}
  },
  {
   "cell_type": "code",
   "execution_count": 1,
   "metadata": {},
   "outputs": [],
   "source": [
    "import pandas as pd\n",
    "import numpy as np\n",
    "from pathlib import Path"
   ]
  },
  {
   "cell_type": "code",
   "execution_count": 2,
   "metadata": {},
   "outputs": [],
   "source": [
    "data_dir = Path.cwd().parent / 'LUNA'"
   ]
  },
  {
   "source": [
    "## Data"
   ],
   "cell_type": "markdown",
   "metadata": {}
  },
  {
   "cell_type": "code",
   "execution_count": 5,
   "metadata": {},
   "outputs": [],
   "source": [
    "candidates_df = pd.read_csv(data_dir / 'candidates.csv')\n",
    "annot_df = pd.read_csv(data_dir / 'annotations.csv')"
   ]
  },
  {
   "cell_type": "code",
   "execution_count": 14,
   "metadata": {},
   "outputs": [
    {
     "output_type": "execute_result",
     "data": {
      "text/plain": [
       "(1186, 5)"
      ]
     },
     "metadata": {},
     "execution_count": 14
    }
   ],
   "source": [
    "annot_df.shape"
   ]
  },
  {
   "cell_type": "code",
   "execution_count": 9,
   "metadata": {},
   "outputs": [
    {
     "output_type": "execute_result",
     "data": {
      "text/plain": [
       "                                           seriesuid      coordX      coordY  \\\n",
       "0  1.3.6.1.4.1.14519.5.2.1.6279.6001.100225287222... -128.699421 -175.319272   \n",
       "1  1.3.6.1.4.1.14519.5.2.1.6279.6001.100225287222...  103.783651 -211.925149   \n",
       "2  1.3.6.1.4.1.14519.5.2.1.6279.6001.100398138793...   69.639017 -140.944586   \n",
       "3  1.3.6.1.4.1.14519.5.2.1.6279.6001.100621383016...  -24.013824  192.102405   \n",
       "4  1.3.6.1.4.1.14519.5.2.1.6279.6001.100621383016...    2.441547  172.464881   \n",
       "\n",
       "       coordZ  diameter_mm  \n",
       "0 -298.387506     5.651471  \n",
       "1 -227.121250     4.224708  \n",
       "2  876.374496     5.786348  \n",
       "3 -391.081276     8.143262  \n",
       "4 -405.493732    18.545150  "
      ],
      "text/html": "<div>\n<style scoped>\n    .dataframe tbody tr th:only-of-type {\n        vertical-align: middle;\n    }\n\n    .dataframe tbody tr th {\n        vertical-align: top;\n    }\n\n    .dataframe thead th {\n        text-align: right;\n    }\n</style>\n<table border=\"1\" class=\"dataframe\">\n  <thead>\n    <tr style=\"text-align: right;\">\n      <th></th>\n      <th>seriesuid</th>\n      <th>coordX</th>\n      <th>coordY</th>\n      <th>coordZ</th>\n      <th>diameter_mm</th>\n    </tr>\n  </thead>\n  <tbody>\n    <tr>\n      <th>0</th>\n      <td>1.3.6.1.4.1.14519.5.2.1.6279.6001.100225287222...</td>\n      <td>-128.699421</td>\n      <td>-175.319272</td>\n      <td>-298.387506</td>\n      <td>5.651471</td>\n    </tr>\n    <tr>\n      <th>1</th>\n      <td>1.3.6.1.4.1.14519.5.2.1.6279.6001.100225287222...</td>\n      <td>103.783651</td>\n      <td>-211.925149</td>\n      <td>-227.121250</td>\n      <td>4.224708</td>\n    </tr>\n    <tr>\n      <th>2</th>\n      <td>1.3.6.1.4.1.14519.5.2.1.6279.6001.100398138793...</td>\n      <td>69.639017</td>\n      <td>-140.944586</td>\n      <td>876.374496</td>\n      <td>5.786348</td>\n    </tr>\n    <tr>\n      <th>3</th>\n      <td>1.3.6.1.4.1.14519.5.2.1.6279.6001.100621383016...</td>\n      <td>-24.013824</td>\n      <td>192.102405</td>\n      <td>-391.081276</td>\n      <td>8.143262</td>\n    </tr>\n    <tr>\n      <th>4</th>\n      <td>1.3.6.1.4.1.14519.5.2.1.6279.6001.100621383016...</td>\n      <td>2.441547</td>\n      <td>172.464881</td>\n      <td>-405.493732</td>\n      <td>18.545150</td>\n    </tr>\n  </tbody>\n</table>\n</div>"
     },
     "metadata": {},
     "execution_count": 9
    }
   ],
   "source": [
    "annot_df.head() # What is relation between these nodules and those in the candidates in the df?"
   ]
  },
  {
   "cell_type": "code",
   "execution_count": 12,
   "metadata": {},
   "outputs": [
    {
     "output_type": "execute_result",
     "data": {
      "text/plain": [
       "601"
      ]
     },
     "metadata": {},
     "execution_count": 12
    }
   ],
   "source": [
    "annot_df['seriesuid'].nunique()"
   ]
  },
  {
   "cell_type": "code",
   "execution_count": 15,
   "metadata": {},
   "outputs": [
    {
     "output_type": "execute_result",
     "data": {
      "text/plain": [
       "888"
      ]
     },
     "metadata": {},
     "execution_count": 15
    }
   ],
   "source": [
    "candidates_df['seriesuid'].nunique()"
   ]
  },
  {
   "source": [
    "## Explore uids that appear in both datasets."
   ],
   "cell_type": "markdown",
   "metadata": {}
  },
  {
   "cell_type": "code",
   "execution_count": 19,
   "metadata": {},
   "outputs": [
    {
     "output_type": "execute_result",
     "data": {
      "text/plain": [
       "                                      seriesuid_left  coordX_left  \\\n",
       "0  1.3.6.1.4.1.14519.5.2.1.6279.6001.100225287222...  -128.699421   \n",
       "1  1.3.6.1.4.1.14519.5.2.1.6279.6001.100225287222...   103.783651   \n",
       "2  1.3.6.1.4.1.14519.5.2.1.6279.6001.100398138793...    69.639017   \n",
       "3  1.3.6.1.4.1.14519.5.2.1.6279.6001.100621383016...   -24.013824   \n",
       "4  1.3.6.1.4.1.14519.5.2.1.6279.6001.100621383016...     2.441547   \n",
       "\n",
       "   coordY_left  coordZ_left  diameter_mm  \\\n",
       "0  -175.319272  -298.387506     5.651471   \n",
       "1  -211.925149  -227.121250     4.224708   \n",
       "2  -140.944586   876.374496     5.786348   \n",
       "3   192.102405  -391.081276     8.143262   \n",
       "4   172.464881  -405.493732    18.545150   \n",
       "\n",
       "                                     seriesuid_right  coordX_right  \\\n",
       "0  1.3.6.1.4.1.14519.5.2.1.6279.6001.100225287222...        -56.08   \n",
       "1  1.3.6.1.4.1.14519.5.2.1.6279.6001.100225287222...         53.21   \n",
       "2  1.3.6.1.4.1.14519.5.2.1.6279.6001.100225287222...        103.66   \n",
       "3  1.3.6.1.4.1.14519.5.2.1.6279.6001.100225287222...        -33.66   \n",
       "4  1.3.6.1.4.1.14519.5.2.1.6279.6001.100225287222...        -32.25   \n",
       "\n",
       "   coordY_right  coordZ_right  class  \n",
       "0        -67.85       -311.92      0  \n",
       "1       -244.41       -245.17      0  \n",
       "2       -121.80       -286.62      0  \n",
       "3        -72.75       -308.41      0  \n",
       "4        -85.36       -362.51      0  "
      ],
      "text/html": "<div>\n<style scoped>\n    .dataframe tbody tr th:only-of-type {\n        vertical-align: middle;\n    }\n\n    .dataframe tbody tr th {\n        vertical-align: top;\n    }\n\n    .dataframe thead th {\n        text-align: right;\n    }\n</style>\n<table border=\"1\" class=\"dataframe\">\n  <thead>\n    <tr style=\"text-align: right;\">\n      <th></th>\n      <th>seriesuid_left</th>\n      <th>coordX_left</th>\n      <th>coordY_left</th>\n      <th>coordZ_left</th>\n      <th>diameter_mm</th>\n      <th>seriesuid_right</th>\n      <th>coordX_right</th>\n      <th>coordY_right</th>\n      <th>coordZ_right</th>\n      <th>class</th>\n    </tr>\n  </thead>\n  <tbody>\n    <tr>\n      <th>0</th>\n      <td>1.3.6.1.4.1.14519.5.2.1.6279.6001.100225287222...</td>\n      <td>-128.699421</td>\n      <td>-175.319272</td>\n      <td>-298.387506</td>\n      <td>5.651471</td>\n      <td>1.3.6.1.4.1.14519.5.2.1.6279.6001.100225287222...</td>\n      <td>-56.08</td>\n      <td>-67.85</td>\n      <td>-311.92</td>\n      <td>0</td>\n    </tr>\n    <tr>\n      <th>1</th>\n      <td>1.3.6.1.4.1.14519.5.2.1.6279.6001.100225287222...</td>\n      <td>103.783651</td>\n      <td>-211.925149</td>\n      <td>-227.121250</td>\n      <td>4.224708</td>\n      <td>1.3.6.1.4.1.14519.5.2.1.6279.6001.100225287222...</td>\n      <td>53.21</td>\n      <td>-244.41</td>\n      <td>-245.17</td>\n      <td>0</td>\n    </tr>\n    <tr>\n      <th>2</th>\n      <td>1.3.6.1.4.1.14519.5.2.1.6279.6001.100398138793...</td>\n      <td>69.639017</td>\n      <td>-140.944586</td>\n      <td>876.374496</td>\n      <td>5.786348</td>\n      <td>1.3.6.1.4.1.14519.5.2.1.6279.6001.100225287222...</td>\n      <td>103.66</td>\n      <td>-121.80</td>\n      <td>-286.62</td>\n      <td>0</td>\n    </tr>\n    <tr>\n      <th>3</th>\n      <td>1.3.6.1.4.1.14519.5.2.1.6279.6001.100621383016...</td>\n      <td>-24.013824</td>\n      <td>192.102405</td>\n      <td>-391.081276</td>\n      <td>8.143262</td>\n      <td>1.3.6.1.4.1.14519.5.2.1.6279.6001.100225287222...</td>\n      <td>-33.66</td>\n      <td>-72.75</td>\n      <td>-308.41</td>\n      <td>0</td>\n    </tr>\n    <tr>\n      <th>4</th>\n      <td>1.3.6.1.4.1.14519.5.2.1.6279.6001.100621383016...</td>\n      <td>2.441547</td>\n      <td>172.464881</td>\n      <td>-405.493732</td>\n      <td>18.545150</td>\n      <td>1.3.6.1.4.1.14519.5.2.1.6279.6001.100225287222...</td>\n      <td>-32.25</td>\n      <td>-85.36</td>\n      <td>-362.51</td>\n      <td>0</td>\n    </tr>\n  </tbody>\n</table>\n</div>"
     },
     "metadata": {},
     "execution_count": 19
    }
   ],
   "source": [
    "df = annot_df.join(other=candidates_df, lsuffix=\"_left\", rsuffix=\"_right\")\n",
    "df.head()"
   ]
  },
  {
   "source": [
    "Joining the dataframes on the uid doesn't necessarily join a nodule with its corresponding nodule."
   ],
   "cell_type": "markdown",
   "metadata": {}
  },
  {
   "cell_type": "code",
   "execution_count": null,
   "metadata": {},
   "outputs": [],
   "source": []
  }
 ]
}